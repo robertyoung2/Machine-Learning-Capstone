{
 "cells": [
  {
   "cell_type": "markdown",
   "metadata": {},
   "source": [
    "Import dataset images of forest and foliage "
   ]
  },
  {
   "cell_type": "code",
   "execution_count": 1,
   "metadata": {},
   "outputs": [
    {
     "name": "stderr",
     "output_type": "stream",
     "text": [
      "Using TensorFlow backend.\n"
     ]
    }
   ],
   "source": [
    "import matplotlib.pyplot as ply\n",
    "import cv2\n",
    "from sklearn.datasets import load_files\n",
    "from skimage.io import imread_collection \n",
    "from keras.utils import np_utils\n",
    "import numpy as np\n",
    "import pandas as pd \n",
    "from glob import glob\n",
    "import os\n",
    "import math"
   ]
  },
  {
   "cell_type": "code",
   "execution_count": 2,
   "metadata": {
    "scrolled": true
   },
   "outputs": [
    {
     "name": "stderr",
     "output_type": "stream",
     "text": [
      "/usr/local/lib/python3.5/dist-packages/ipykernel_launcher.py:12: DeprecationWarning: \n",
      ".ix is deprecated. Please use\n",
      ".loc for label based indexing or\n",
      ".iloc for positional indexing\n",
      "\n",
      "See the documentation here:\n",
      "http://pandas.pydata.org/pandas-docs/stable/indexing.html#ix-indexer-is-deprecated\n",
      "  if sys.path[0] == '':\n"
     ]
    }
   ],
   "source": [
    "from sklearn.model_selection import train_test_split\n",
    "\n",
    "path = \"Datasets/train/\"\n",
    "# Function to load train, test and validation datasets\n",
    "\n",
    "def load_training(path):\n",
    "    \n",
    "    # Load in training labels as a Pandas dataframe\n",
    "    train_targets_data = pd.read_csv('Datasets/train_labels.csv',index_col = False)\n",
    "    \n",
    "    # Convert Dataframe into Numpy array\n",
    "    train_targets = np.array(train_targets_data['invasive'].ix[:,])\n",
    "    \n",
    "    # Training image file paths stored as numpy array 'forest_files'\n",
    "    train_files = np.array(glob(\"Datasets/train/*\"))\n",
    "    \n",
    "    # Glob is unordered, sort in increasing numeric file name\n",
    "    train_files = sorted(train_files, key=lambda name: int(name[15:-4]))\n",
    "    \n",
    "    # Insert filepath as name for training set\n",
    "    train_targets_data['name'] = train_files\n",
    "    \n",
    "    return train_files, train_targets_data, train_targets\n",
    "    \n",
    "train_files, train_targets_data, train_targets = load_training(path)"
   ]
  },
  {
   "cell_type": "code",
   "execution_count": 3,
   "metadata": {},
   "outputs": [
    {
     "data": {
      "text/html": [
       "<div>\n",
       "<style>\n",
       "    .dataframe thead tr:only-child th {\n",
       "        text-align: right;\n",
       "    }\n",
       "\n",
       "    .dataframe thead th {\n",
       "        text-align: left;\n",
       "    }\n",
       "\n",
       "    .dataframe tbody tr th {\n",
       "        vertical-align: top;\n",
       "    }\n",
       "</style>\n",
       "<table border=\"1\" class=\"dataframe\">\n",
       "  <thead>\n",
       "    <tr style=\"text-align: right;\">\n",
       "      <th></th>\n",
       "      <th>name</th>\n",
       "      <th>invasive</th>\n",
       "    </tr>\n",
       "  </thead>\n",
       "  <tbody>\n",
       "    <tr>\n",
       "      <th>0</th>\n",
       "      <td>Datasets/train/1.jpg</td>\n",
       "      <td>0</td>\n",
       "    </tr>\n",
       "    <tr>\n",
       "      <th>1</th>\n",
       "      <td>Datasets/train/2.jpg</td>\n",
       "      <td>0</td>\n",
       "    </tr>\n",
       "    <tr>\n",
       "      <th>2</th>\n",
       "      <td>Datasets/train/3.jpg</td>\n",
       "      <td>1</td>\n",
       "    </tr>\n",
       "    <tr>\n",
       "      <th>3</th>\n",
       "      <td>Datasets/train/4.jpg</td>\n",
       "      <td>0</td>\n",
       "    </tr>\n",
       "    <tr>\n",
       "      <th>4</th>\n",
       "      <td>Datasets/train/5.jpg</td>\n",
       "      <td>1</td>\n",
       "    </tr>\n",
       "  </tbody>\n",
       "</table>\n",
       "</div>"
      ],
      "text/plain": [
       "                   name  invasive\n",
       "0  Datasets/train/1.jpg         0\n",
       "1  Datasets/train/2.jpg         0\n",
       "2  Datasets/train/3.jpg         1\n",
       "3  Datasets/train/4.jpg         0\n",
       "4  Datasets/train/5.jpg         1"
      ]
     },
     "execution_count": 3,
     "metadata": {},
     "output_type": "execute_result"
    }
   ],
   "source": [
    "train_targets_data.head()"
   ]
  },
  {
   "cell_type": "code",
   "execution_count": 3,
   "metadata": {},
   "outputs": [],
   "source": [
    "from sklearn.model_selection import train_test_split\n",
    "\n",
    "# Need to check that both training and valid files match the target labels.\n",
    "\n",
    "train_files, valid_files, train_targets, valid_targets = train_test_split(train_files, train_targets, test_size = 0.2)"
   ]
  },
  {
   "cell_type": "code",
   "execution_count": null,
   "metadata": {},
   "outputs": [],
   "source": []
  },
  {
   "cell_type": "code",
   "execution_count": 4,
   "metadata": {},
   "outputs": [],
   "source": [
    "path = \"Datasets/test\"\n",
    "\n",
    "def load_testing(path):\n",
    "    \n",
    "    # Load in testing labels as a Pandas dataframe\n",
    "    test_targets = pd.read_csv('Datasets/sample_submission.csv')\n",
    "    \n",
    "    # Forest testing image file paths stored as numpy array 'testing_images'\n",
    "    test_files = np.array(glob('Datasets/test/*'))\n",
    "    \n",
    "    # Glob is unordered, sort in increasing numeric file name\n",
    "    test_files = sorted(test_files, key = lambda name: int(name[14:-4]))\n",
    "    \n",
    "    return test_files, test_targets\n",
    "\n",
    "test_files, test_targets = load_testing(path)"
   ]
  },
  {
   "cell_type": "code",
   "execution_count": 6,
   "metadata": {},
   "outputs": [
    {
     "data": {
      "text/html": [
       "<div>\n",
       "<style>\n",
       "    .dataframe thead tr:only-child th {\n",
       "        text-align: right;\n",
       "    }\n",
       "\n",
       "    .dataframe thead th {\n",
       "        text-align: left;\n",
       "    }\n",
       "\n",
       "    .dataframe tbody tr th {\n",
       "        vertical-align: top;\n",
       "    }\n",
       "</style>\n",
       "<table border=\"1\" class=\"dataframe\">\n",
       "  <thead>\n",
       "    <tr style=\"text-align: right;\">\n",
       "      <th></th>\n",
       "      <th>name</th>\n",
       "      <th>invasive</th>\n",
       "    </tr>\n",
       "  </thead>\n",
       "  <tbody>\n",
       "    <tr>\n",
       "      <th>0</th>\n",
       "      <td>1</td>\n",
       "      <td>0.5</td>\n",
       "    </tr>\n",
       "    <tr>\n",
       "      <th>1</th>\n",
       "      <td>2</td>\n",
       "      <td>0.5</td>\n",
       "    </tr>\n",
       "    <tr>\n",
       "      <th>2</th>\n",
       "      <td>3</td>\n",
       "      <td>0.5</td>\n",
       "    </tr>\n",
       "    <tr>\n",
       "      <th>3</th>\n",
       "      <td>4</td>\n",
       "      <td>0.5</td>\n",
       "    </tr>\n",
       "    <tr>\n",
       "      <th>4</th>\n",
       "      <td>5</td>\n",
       "      <td>0.5</td>\n",
       "    </tr>\n",
       "  </tbody>\n",
       "</table>\n",
       "</div>"
      ],
      "text/plain": [
       "   name  invasive\n",
       "0     1       0.5\n",
       "1     2       0.5\n",
       "2     3       0.5\n",
       "3     4       0.5\n",
       "4     5       0.5"
      ]
     },
     "execution_count": 6,
     "metadata": {},
     "output_type": "execute_result"
    }
   ],
   "source": [
    "test_targets.head()"
   ]
  },
  {
   "cell_type": "markdown",
   "metadata": {},
   "source": [
    "### File Statistics"
   ]
  },
  {
   "cell_type": "code",
   "execution_count": 5,
   "metadata": {},
   "outputs": [
    {
     "name": "stdout",
     "output_type": "stream",
     "text": [
      "There are 3826 total forest images.\n",
      "\n",
      "There are 1836 training forest images.\n",
      "There are 459 validation forest images.\n",
      "There are 1531 test forest images.\n"
     ]
    }
   ],
   "source": [
    "print('There are %s total forest images.\\n' % len(np.hstack([train_files, valid_files, test_files])))\n",
    "print('There are %d training forest images.' % len(train_files))\n",
    "print('There are %d validation forest images.' % len(valid_files))\n",
    "print('There are %d test forest images.'% len(test_files))"
   ]
  },
  {
   "cell_type": "code",
   "execution_count": null,
   "metadata": {},
   "outputs": [],
   "source": []
  },
  {
   "cell_type": "markdown",
   "metadata": {},
   "source": [
    "### Pre-process the Data - Conversion into 4D Tensor"
   ]
  },
  {
   "cell_type": "code",
   "execution_count": 6,
   "metadata": {},
   "outputs": [],
   "source": [
    "# Function to pre-proces the data into 4D array\n",
    "\n",
    "from keras.preprocessing import image\n",
    "from tqdm import tqdm\n",
    "\n",
    "def path_tensor(img_path):\n",
    "    \n",
    "    # Takes RGB image and loads as PIL.Image.Image type\n",
    "    img = image.load_img(img_path, target_size = (224, 224))\n",
    "    \n",
    "    # Convert the PIL.Image.Image type to a 3D tensor with the shape (224, 224, 3)\n",
    "    x = image.img_to_array(img)\n",
    "    \n",
    "    # 3D tensor conversion to 4D tensor, shape (1, 224, 224, 3). Returns 4D tensor\n",
    "    return np.expand_dims(x, axis = 0)\n",
    "\n",
    "def paths_tensor(img_paths):\n",
    "    list_tensors = [path_tensor(img_path) for img_path in tqdm(img_paths)]\n",
    "    return np.vstack(list_tensors)   \n",
    "    "
   ]
  },
  {
   "cell_type": "markdown",
   "metadata": {},
   "source": [
    "### Pre-process the Data - RGB to BGR, Mean Pixel "
   ]
  },
  {
   "cell_type": "code",
   "execution_count": null,
   "metadata": {},
   "outputs": [],
   "source": [
    "# Under consideration"
   ]
  },
  {
   "cell_type": "markdown",
   "metadata": {},
   "source": [
    "### Run Data Pre-processing"
   ]
  },
  {
   "cell_type": "code",
   "execution_count": 7,
   "metadata": {},
   "outputs": [
    {
     "name": "stderr",
     "output_type": "stream",
     "text": [
      "100%|██████████| 1836/1836 [00:52<00:00, 34.84it/s]\n",
      "100%|██████████| 459/459 [00:13<00:00, 35.11it/s]\n",
      "100%|██████████| 1531/1531 [00:41<00:00, 36.83it/s]\n"
     ]
    }
   ],
   "source": [
    "from PIL import ImageFile\n",
    "ImageFile.LOAD_TRUNCATED_IMAGES = True\n",
    "\n",
    "# Pre-Process the data for Keras\n",
    "train_tensors = paths_tensor(train_files).astype('float32')/255\n",
    "valid_tensors = paths_tensor(valid_files).astype('float32')/255\n",
    "test_tensors = paths_tensor (test_files).astype('float32')/255"
   ]
  },
  {
   "cell_type": "markdown",
   "metadata": {},
   "source": [
    "### Check Shape of Inputs"
   ]
  },
  {
   "cell_type": "code",
   "execution_count": 8,
   "metadata": {},
   "outputs": [
    {
     "name": "stdout",
     "output_type": "stream",
     "text": [
      "The shape of the training tensor is: (1836, 224, 224, 3)\n",
      "The shape of the training targets is: (1836,)\n",
      "The shape of the validation tensor is: (459, 224, 224, 3)\n",
      "The shape of the validation targets is: (459,)\n",
      "The shape of the testing tensor is: (1531, 224, 224, 3)\n",
      "The shape of the testing targets is: (1531, 2)\n"
     ]
    }
   ],
   "source": [
    "print(\"The shape of the training tensor is:\",train_tensors.shape)\n",
    "print(\"The shape of the training targets is:\",train_targets.shape)\n",
    "print(\"The shape of the validation tensor is:\",valid_tensors.shape)\n",
    "print(\"The shape of the validation targets is:\",valid_targets.shape)\n",
    "print(\"The shape of the testing tensor is:\",test_tensors.shape)\n",
    "print(\"The shape of the testing targets is:\",test_targets.shape)"
   ]
  },
  {
   "cell_type": "markdown",
   "metadata": {},
   "source": [
    "### Obtain Bottleneck Features - VGG16"
   ]
  },
  {
   "cell_type": "code",
   "execution_count": 20,
   "metadata": {},
   "outputs": [],
   "source": [
    "# Load in Xception bottleneck features\n",
    "\n",
    "from keras import applications\n",
    "from keras.preprocessing import image\n",
    "\n",
    "\n",
    "VGG16_bottleneck_features = applications.VGG16(include_top=False, weights='imagenet', input_shape=(224, 224, 3))"
   ]
  },
  {
   "cell_type": "markdown",
   "metadata": {},
   "source": [
    "### Obtain Bottleneck Features - Xception"
   ]
  },
  {
   "cell_type": "code",
   "execution_count": 21,
   "metadata": {},
   "outputs": [],
   "source": [
    "# Load in Xception bottleneck features\n",
    "\n",
    "from keras import applications\n",
    "from keras.preprocessing import image\n",
    "\n",
    "\n",
    "Xception_bottleneck_features = applications.Xception(include_top=False, weights='imagenet', input_shape=(224, 224, 3))"
   ]
  },
  {
   "cell_type": "markdown",
   "metadata": {
    "collapsed": true
   },
   "source": [
    "### Model Architecture VGG16"
   ]
  },
  {
   "cell_type": "code",
   "execution_count": 22,
   "metadata": {},
   "outputs": [],
   "source": [
    "from keras.layers import Conv2D, MaxPooling2D, GlobalAveragePooling2D\n",
    "from keras.layers import Dropout, Flatten, Dense\n",
    "from keras.models import Sequential\n",
    "from keras.models import Sequential, Model, load_model\n",
    "from keras import applications\n",
    "from keras import optimizers\n",
    "\n",
    "VGG16_model = Sequential()\n",
    "VGG16_model.add(Flatten(input_shape = VGG16_bottleneck_features.output_shape[1:]))\n",
    "VGG16_model.add(Dense(256, activation = 'relu'))\n",
    "VGG16_model.add(Dropout(0.2))\n",
    "VGG16_model.add(Dense(1, activation = 'sigmoid'))\n",
    "\n",
    "model_VGG16 = Model(inputs = VGG16_bottleneck_features.input, outputs = VGG16_model(VGG16_bottleneck_features.output))\n"
   ]
  },
  {
   "cell_type": "markdown",
   "metadata": {},
   "source": [
    "### Model Architecture Xception"
   ]
  },
  {
   "cell_type": "code",
   "execution_count": 23,
   "metadata": {},
   "outputs": [],
   "source": [
    "from keras.layers import Conv2D, MaxPooling2D, GlobalAveragePooling2D\n",
    "from keras.layers import Dropout, Flatten, Dense\n",
    "from keras.models import Sequential\n",
    "from keras.models import Sequential, Model, load_model\n",
    "from keras import applications\n",
    "from keras import optimizers\n",
    "\n",
    "Xception_model = Sequential()\n",
    "Xception_model.add(Flatten(input_shape = Xception_bottleneck_features.output_shape[1:]))\n",
    "Xception_model.add(Dropout(0.2))\n",
    "Xception_model.add(Dense(1, activation = 'sigmoid'))\n",
    "\n",
    "model_Xception = Model(inputs = Xception_bottleneck_features.input, outputs = Xception_model(Xception_bottleneck_features.output))\n",
    "\n"
   ]
  },
  {
   "cell_type": "markdown",
   "metadata": {},
   "source": [
    "### Compile the VGG16 Model"
   ]
  },
  {
   "cell_type": "code",
   "execution_count": 24,
   "metadata": {},
   "outputs": [],
   "source": [
    "model_VGG16.compile(optimizer = 'rmsprop', loss = 'binary_crossentropy', metrics =['accuracy'])"
   ]
  },
  {
   "cell_type": "markdown",
   "metadata": {},
   "source": [
    "### Compile the Xception Model"
   ]
  },
  {
   "cell_type": "code",
   "execution_count": 25,
   "metadata": {},
   "outputs": [],
   "source": [
    "model_Xception.compile(optimizer = 'rmsprop', loss = 'binary_crossentropy', metrics =['accuracy'])"
   ]
  },
  {
   "cell_type": "markdown",
   "metadata": {},
   "source": [
    "### Save the Best Performing Model VGG16"
   ]
  },
  {
   "cell_type": "code",
   "execution_count": 26,
   "metadata": {},
   "outputs": [],
   "source": [
    "from keras.callbacks import ModelCheckpoint\n",
    "\n",
    "VGG16_checkpointer = ModelCheckpoint(filepath='saved_models/weights.best.VGG16.hdf5', verbose = 1, save_best_only=True)"
   ]
  },
  {
   "cell_type": "markdown",
   "metadata": {},
   "source": [
    "### Save the Best Performing Model Xception"
   ]
  },
  {
   "cell_type": "code",
   "execution_count": 27,
   "metadata": {},
   "outputs": [],
   "source": [
    "from keras.callbacks import ModelCheckpoint\n",
    "\n",
    "Xception_checkpointer = ModelCheckpoint(filepath='saved_models/weights.best.Xception.hdf5', verbose = 1, save_best_only=True)"
   ]
  },
  {
   "cell_type": "markdown",
   "metadata": {},
   "source": [
    "### Image Augementation"
   ]
  },
  {
   "cell_type": "code",
   "execution_count": 28,
   "metadata": {},
   "outputs": [],
   "source": [
    "from keras.preprocessing.image import ImageDataGenerator, array_to_img, img_to_array, load_img\n",
    "\n",
    "train_datagen = ImageDataGenerator(\n",
    "            rotation_range = 20,\n",
    "            width_shift_range = 0.2,\n",
    "            height_shift_range = 0.2,\n",
    "            shear_range = 0.2,\n",
    "            zoom_range = 0.2,\n",
    "            horizontal_flip = True,\n",
    "            fill_mode = 'nearest'\n",
    ")\n",
    "\n",
    "train_datagen.fit(train_tensors)"
   ]
  },
  {
   "cell_type": "markdown",
   "metadata": {},
   "source": [
    "### Fit the VGG16 Model"
   ]
  },
  {
   "cell_type": "code",
   "execution_count": null,
   "metadata": {},
   "outputs": [
    {
     "name": "stdout",
     "output_type": "stream",
     "text": [
      "Epoch 1/20\n",
      " 2/28 [=>............................] - ETA: 4328s - loss: 5.8748 - acc: 0.4219"
     ]
    }
   ],
   "source": [
    "epochs = 10\n",
    "batch_size = 32\n",
    "\n",
    "VGG16_history = model_VGG16.fit_generator(\n",
    "        train_datagen.flow(train_tensors, train_targets, batch_size = batch_size),\n",
    "        epochs = epochs,\n",
    "        steps_per_epoch = train_tensors.shape[0] // batch_size,\n",
    "        validation_data = (valid_tensors, valid_targets),\n",
    "        callbacks=[VGG16_checkpointer])"
   ]
  },
  {
   "cell_type": "markdown",
   "metadata": {
    "collapsed": true
   },
   "source": [
    "### Fit the Xception Model"
   ]
  },
  {
   "cell_type": "code",
   "execution_count": 29,
   "metadata": {},
   "outputs": [
    {
     "name": "stdout",
     "output_type": "stream",
     "text": [
      "Epoch 1/10\n",
      "56/57 [============================>.] - ETA: 43s - loss: 0.6089 - acc: 0.6300Epoch 00000: val_loss improved from inf to 0.47066, saving model to saved_models/weights.best.Xception.hdf5\n",
      "57/57 [==============================] - 2735s - loss: 0.6059 - acc: 0.6299 - val_loss: 0.4707 - val_acc: 0.6710\n",
      "Epoch 2/10\n",
      "56/57 [============================>.] - ETA: 42s - loss: 0.4962 - acc: 0.7760Epoch 00001: val_loss did not improve\n",
      "57/57 [==============================] - 2702s - loss: 0.4950 - acc: 0.7750 - val_loss: 1.0407 - val_acc: 0.8540\n",
      "Epoch 3/10\n",
      "56/57 [============================>.] - ETA: 42s - loss: 0.4428 - acc: 0.8495Epoch 00002: val_loss did not improve\n",
      "57/57 [==============================] - 2707s - loss: 0.4437 - acc: 0.8489 - val_loss: 1.6599 - val_acc: 0.8562\n",
      "Epoch 4/10\n",
      "56/57 [============================>.] - ETA: 42s - loss: 0.4973 - acc: 0.8023Epoch 00003: val_loss did not improve\n",
      "57/57 [==============================] - 2706s - loss: 0.4961 - acc: 0.8024 - val_loss: 1.0011 - val_acc: 0.8475\n",
      "Epoch 5/10\n",
      "56/57 [============================>.] - ETA: 42s - loss: 0.4641 - acc: 0.8443Epoch 00004: val_loss improved from 0.47066 to 0.33756, saving model to saved_models/weights.best.Xception.hdf5\n",
      "57/57 [==============================] - 2708s - loss: 0.4615 - acc: 0.8459 - val_loss: 0.3376 - val_acc: 0.9063\n",
      "Epoch 6/10\n",
      "56/57 [============================>.] - ETA: 42s - loss: 0.4921 - acc: 0.8575Epoch 00005: val_loss did not improve\n",
      "57/57 [==============================] - 2709s - loss: 0.4911 - acc: 0.8584 - val_loss: 0.9999 - val_acc: 0.8410\n",
      "Epoch 7/10\n",
      "56/57 [============================>.] - ETA: 42s - loss: 0.3706 - acc: 0.8523Epoch 00006: val_loss did not improve\n",
      "57/57 [==============================] - 2710s - loss: 0.3703 - acc: 0.8510 - val_loss: 0.9454 - val_acc: 0.7930\n",
      "Epoch 8/10\n",
      "56/57 [============================>.] - ETA: 42s - loss: 0.3256 - acc: 0.8852Epoch 00007: val_loss did not improve\n",
      "57/57 [==============================] - 2710s - loss: 0.3255 - acc: 0.8839 - val_loss: 4.5960 - val_acc: 0.6972\n",
      "Epoch 9/10\n",
      "56/57 [============================>.] - ETA: 42s - loss: 0.2479 - acc: 0.9089Epoch 00008: val_loss did not improve\n",
      "57/57 [==============================] - 2709s - loss: 0.2466 - acc: 0.9094 - val_loss: 3.5513 - val_acc: 0.7495\n",
      "Epoch 10/10\n",
      "56/57 [============================>.] - ETA: 42s - loss: 0.3306 - acc: 0.8847Epoch 00009: val_loss did not improve\n",
      "57/57 [==============================] - 2704s - loss: 0.3292 - acc: 0.8845 - val_loss: 2.0790 - val_acc: 0.8148\n"
     ]
    }
   ],
   "source": [
    "epochs = 10\n",
    "batch_size = 32\n",
    "\n",
    "Xception_history = model_Xception.fit_generator(\n",
    "        train_datagen.flow(train_tensors, train_targets, batch_size = batch_size),\n",
    "        epochs = epochs,\n",
    "        steps_per_epoch = train_tensors.shape[0] // batch_size,\n",
    "        validation_data = (valid_tensors, valid_targets),\n",
    "        callbacks=[Xception_checkpointer])"
   ]
  },
  {
   "cell_type": "code",
   "execution_count": null,
   "metadata": {},
   "outputs": [],
   "source": [
    "model_Xception.load_weights('saved_models/weights.best.Xception.hdf5')"
   ]
  },
  {
   "cell_type": "code",
   "execution_count": null,
   "metadata": {},
   "outputs": [],
   "source": [
    "predictions = model_Xception.predict(test_tensors)"
   ]
  },
  {
   "cell_type": "code",
   "execution_count": null,
   "metadata": {},
   "outputs": [],
   "source": [
    "sample_submission = pd.read_csv(\"Datasets/sample_submission.csv\")\n",
    "\n",
    "for i, name in enumerate(test_targets):\n",
    "    sample_submission.loc[sample_submission['name'] == name, 'invasive'] = predictions[i]\n",
    "\n",
    "sample_submission.to_csv(\"submit.csv\", index=False)"
   ]
  }
 ],
 "metadata": {
  "kernelspec": {
   "display_name": "Python 3",
   "language": "python",
   "name": "python3"
  },
  "language_info": {
   "codemirror_mode": {
    "name": "ipython",
    "version": 3
   },
   "file_extension": ".py",
   "mimetype": "text/x-python",
   "name": "python",
   "nbconvert_exporter": "python",
   "pygments_lexer": "ipython3",
   "version": "3.5.2"
  }
 },
 "nbformat": 4,
 "nbformat_minor": 2
}
